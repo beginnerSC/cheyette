{
 "cells": [
  {
   "cell_type": "code",
   "execution_count": null,
   "id": "eddaa9ff-3d79-4efe-87f7-efddee6828af",
   "metadata": {},
   "outputs": [],
   "source": [
    "from pandas import DataFrame\n",
    "from cheyette import y_bar\n",
    "import numpy as np\n",
    "\n",
    "df = DataFrame([np.array(y_bar(t)).flatten() for t in range(30)])   %.plot(style='.-')"
   ]
  },
  {
   "cell_type": "code",
   "execution_count": 3,
   "id": "5cee539f-8565-4a09-ac2f-c6879dfb1950",
   "metadata": {},
   "outputs": [
    {
     "name": "stdout",
     "output_type": "stream",
     "text": [
      "CPU times: total: 18.2 s\n",
      "Wall time: 18.2 s\n"
     ]
    },
    {
     "data": {
      "text/plain": [
       "[[46320.26705246543, 739.0285197434464, 15.480326798976913],\n",
       " [16745.936246933863, 268.287884233012, 5.675365508181057],\n",
       " [6604.501478522236, 105.5222204634098, 2.2182628266096573]]"
      ]
     },
     "execution_count": 3,
     "metadata": {},
     "output_type": "execute_result"
    }
   ],
   "source": [
    "%%time\n",
    "\n",
    "from cheyette import y_bar\n",
    "\n",
    "y_bar(3.5)"
   ]
  }
 ],
 "metadata": {
  "kernelspec": {
   "display_name": "Python 3 (ipykernel)",
   "language": "python",
   "name": "python3"
  },
  "language_info": {
   "codemirror_mode": {
    "name": "ipython",
    "version": 3
   },
   "file_extension": ".py",
   "mimetype": "text/x-python",
   "name": "python",
   "nbconvert_exporter": "python",
   "pygments_lexer": "ipython3",
   "version": "3.12.4"
  }
 },
 "nbformat": 4,
 "nbformat_minor": 5
}
